{
  "nbformat": 4,
  "nbformat_minor": 0,
  "metadata": {
    "colab": {
      "name": "bitclout.ipynb",
      "provenance": [],
      "authorship_tag": "ABX9TyMhXSrN+Rh6QvUlSVlSGmic",
      "include_colab_link": true
    },
    "kernelspec": {
      "name": "python3",
      "display_name": "Python 3"
    },
    "language_info": {
      "name": "python"
    }
  },
  "cells": [
    {
      "cell_type": "markdown",
      "metadata": {
        "id": "view-in-github",
        "colab_type": "text"
      },
      "source": [
        "<a href=\"https://colab.research.google.com/github/azganushpoghosyan/fidap/blob/main/bitclout.ipynb\" target=\"_parent\"><img src=\"https://colab.research.google.com/assets/colab-badge.svg\" alt=\"Open In Colab\"/></a>"
      ]
    },
    {
      "cell_type": "code",
      "metadata": {
        "colab": {
          "base_uri": "https://localhost:8080/"
        },
        "id": "xp1ZP7UgE5XR",
        "outputId": "44cd5606-5eeb-4061-a4bd-e51de62af9fe"
      },
      "source": [
        "!pip install --upgrade fidap"
      ],
      "execution_count": 1,
      "outputs": [
        {
          "output_type": "stream",
          "text": [
            "Collecting fidap\n",
            "  Downloading https://files.pythonhosted.org/packages/9d/7c/a128c6027632c23a2d73770f745b2f496bb5656fad0205d07404bd260dc7/fidap-0.0.15-py3-none-any.whl\n",
            "Requirement already satisfied, skipping upgrade: pandas>=0.14 in /usr/local/lib/python3.7/dist-packages (from fidap) (1.1.5)\n",
            "Collecting python-dotenv>=0.15.0\n",
            "  Downloading https://files.pythonhosted.org/packages/5c/0c/9c5d5dd254e9e7a32d34777cc6fd33cbeb174744061458b88470aecbd1d6/python_dotenv-0.18.0-py2.py3-none-any.whl\n",
            "Collecting delta-sharing\n",
            "  Downloading https://files.pythonhosted.org/packages/80/30/c4a2454eb2bf7b9a4eafb14bd7835a3aee1d84c212257300eeac00a30552/delta_sharing-0.1.0-py3-none-any.whl\n",
            "Requirement already satisfied, skipping upgrade: numpy>=1.8 in /usr/local/lib/python3.7/dist-packages (from fidap) (1.19.5)\n",
            "Requirement already satisfied, skipping upgrade: requests>=2.7.0 in /usr/local/lib/python3.7/dist-packages (from fidap) (2.23.0)\n",
            "Requirement already satisfied, skipping upgrade: python-dateutil>=2.7.3 in /usr/local/lib/python3.7/dist-packages (from pandas>=0.14->fidap) (2.8.1)\n",
            "Requirement already satisfied, skipping upgrade: pytz>=2017.2 in /usr/local/lib/python3.7/dist-packages (from pandas>=0.14->fidap) (2018.9)\n",
            "Collecting fsspec\n",
            "\u001b[?25l  Downloading https://files.pythonhosted.org/packages/0e/3a/666e63625a19883ae8e1674099e631f9737bd5478c4790e5ad49c5ac5261/fsspec-2021.6.1-py3-none-any.whl (115kB)\n",
            "\u001b[K     |████████████████████████████████| 122kB 9.3MB/s \n",
            "\u001b[?25hRequirement already satisfied, skipping upgrade: pyarrow in /usr/local/lib/python3.7/dist-packages (from delta-sharing->fidap) (3.0.0)\n",
            "Collecting aiohttp\n",
            "\u001b[?25l  Downloading https://files.pythonhosted.org/packages/88/c0/5890b4c8b04a79b7360e8fe4490feb0bb3ab179743f199f0e6220cebd568/aiohttp-3.7.4.post0-cp37-cp37m-manylinux2014_x86_64.whl (1.3MB)\n",
            "\u001b[K     |████████████████████████████████| 1.3MB 12.2MB/s \n",
            "\u001b[?25hRequirement already satisfied, skipping upgrade: urllib3!=1.25.0,!=1.25.1,<1.26,>=1.21.1 in /usr/local/lib/python3.7/dist-packages (from requests>=2.7.0->fidap) (1.24.3)\n",
            "Requirement already satisfied, skipping upgrade: certifi>=2017.4.17 in /usr/local/lib/python3.7/dist-packages (from requests>=2.7.0->fidap) (2021.5.30)\n",
            "Requirement already satisfied, skipping upgrade: chardet<4,>=3.0.2 in /usr/local/lib/python3.7/dist-packages (from requests>=2.7.0->fidap) (3.0.4)\n",
            "Requirement already satisfied, skipping upgrade: idna<3,>=2.5 in /usr/local/lib/python3.7/dist-packages (from requests>=2.7.0->fidap) (2.10)\n",
            "Requirement already satisfied, skipping upgrade: six>=1.5 in /usr/local/lib/python3.7/dist-packages (from python-dateutil>=2.7.3->pandas>=0.14->fidap) (1.15.0)\n",
            "Collecting async-timeout<4.0,>=3.0\n",
            "  Downloading https://files.pythonhosted.org/packages/e1/1e/5a4441be21b0726c4464f3f23c8b19628372f606755a9d2e46c187e65ec4/async_timeout-3.0.1-py3-none-any.whl\n",
            "Collecting yarl<2.0,>=1.0\n",
            "\u001b[?25l  Downloading https://files.pythonhosted.org/packages/f1/62/046834c5fc998c88ab2ef722f5d42122230a632212c8afa76418324f53ff/yarl-1.6.3-cp37-cp37m-manylinux2014_x86_64.whl (294kB)\n",
            "\u001b[K     |████████████████████████████████| 296kB 31.4MB/s \n",
            "\u001b[?25hRequirement already satisfied, skipping upgrade: typing-extensions>=3.6.5 in /usr/local/lib/python3.7/dist-packages (from aiohttp->delta-sharing->fidap) (3.7.4.3)\n",
            "Requirement already satisfied, skipping upgrade: attrs>=17.3.0 in /usr/local/lib/python3.7/dist-packages (from aiohttp->delta-sharing->fidap) (21.2.0)\n",
            "Collecting multidict<7.0,>=4.5\n",
            "\u001b[?25l  Downloading https://files.pythonhosted.org/packages/7c/a6/4123b8165acbe773d1a8dc8e3f0d1edea16d29f7de018eda769abb56bd30/multidict-5.1.0-cp37-cp37m-manylinux2014_x86_64.whl (142kB)\n",
            "\u001b[K     |████████████████████████████████| 143kB 38.7MB/s \n",
            "\u001b[?25hInstalling collected packages: python-dotenv, fsspec, async-timeout, multidict, yarl, aiohttp, delta-sharing, fidap\n",
            "Successfully installed aiohttp-3.7.4.post0 async-timeout-3.0.1 delta-sharing-0.1.0 fidap-0.0.15 fsspec-2021.6.1 multidict-5.1.0 python-dotenv-0.18.0 yarl-1.6.3\n"
          ],
          "name": "stdout"
        }
      ]
    },
    {
      "cell_type": "code",
      "metadata": {
        "colab": {
          "base_uri": "https://localhost:8080/"
        },
        "id": "DWQFbdw8CRhS",
        "outputId": "09e620d8-228f-4b3f-aed3-721be67a1320"
      },
      "source": [
        "!pip show fidap"
      ],
      "execution_count": 2,
      "outputs": [
        {
          "output_type": "stream",
          "text": [
            "Name: fidap\n",
            "Version: 0.0.15\n",
            "Summary: Access clean external data easily.\n",
            "Home-page: https://github.com/fidapco/fidap-python\n",
            "Author: Ashish Singal\n",
            "Author-email: ashish.singal1@gmail.com\n",
            "License: MIT\n",
            "Location: /usr/local/lib/python3.7/dist-packages\n",
            "Requires: delta-sharing, requests, pandas, numpy, python-dotenv\n",
            "Required-by: \n"
          ],
          "name": "stdout"
        }
      ]
    },
    {
      "cell_type": "code",
      "metadata": {
        "id": "coA7bqvrCU24"
      },
      "source": [
        "from fidap import fidap_client"
      ],
      "execution_count": 3,
      "outputs": []
    },
    {
      "cell_type": "code",
      "metadata": {
        "id": "2ENWJ7pzCZFs"
      },
      "source": [
        "fidap = fidap_client(api_key=\"e5bb3c8567d14dd28923d1cdbe0560a4\")"
      ],
      "execution_count": 4,
      "outputs": []
    },
    {
      "cell_type": "code",
      "metadata": {
        "id": "Dwd-f5-SChc_"
      },
      "source": [
        "import pandas as pd\n",
        "import numpy as np\n",
        "from wordcloud import WordCloud, STOPWORDS, ImageColorGenerator\n",
        "\n",
        "import matplotlib.pyplot as plt\n",
        "% matplotlib inline"
      ],
      "execution_count": 10,
      "outputs": []
    },
    {
      "cell_type": "code",
      "metadata": {
        "id": "QPP4EObUGHFt"
      },
      "source": [
        "pd.set_option('display.max_colwidth', None)"
      ],
      "execution_count": 39,
      "outputs": []
    },
    {
      "cell_type": "code",
      "metadata": {
        "id": "4tAiH3aqCbT9"
      },
      "source": [
        "df = fidap.sql(\n",
        "\"\"\"\n",
        "select post_text, likes\n",
        "from\n",
        "(select table_2.followed_pkid, table_2.followed_public_key, table_2.username, table_2.followers,\n",
        "       table_3.post_text, table_3.creating_date, table_3.PosterPublicKey, table_3.likes, table_3.comments\n",
        "from\n",
        "(select table_1.FollowedPKID as followed_pkid, p.PublicKey as followed_public_key, table_1.Username as username, table_1.followers\n",
        "from\n",
        "(select f.FollowedPKID, u.Username, count(f.FollowerPKID) as followers,\n",
        "from fidap-301014.bitclout.PrefixFollowedPubKeyToFollowerPubKey_29 as f \n",
        "left join fidap-301014.bitclout.PrefixProfileUsernameToProfilePubKey_25 as u \n",
        "on f.followedPKID = u.PKID\n",
        "group by f.followedPKID, u.Username) as table_1\n",
        "left join fidap-301014.bitclout.PrefixPKIDToPublicKey_37 as p \n",
        "on table_1.followedPKID = p.PKID) as table_2\n",
        "full outer join\n",
        "(select Body as post_text, left(Time, 10) as creating_date, PosterPublicKey, LikeCount as likes, CommentCount as comments\n",
        "from fidap-301014.bitclout.PrefixPostHashToPostEntry_17) as table_3\n",
        "on table_2.followed_public_key = table_3.PosterPublicKey) as final_table\n",
        "order by likes desc\n",
        "limit 100\n",
        "\"\"\")"
      ],
      "execution_count": 40,
      "outputs": []
    },
    {
      "cell_type": "code",
      "metadata": {
        "colab": {
          "base_uri": "https://localhost:8080/",
          "height": 708
        },
        "id": "_VovZq6rCxhs",
        "outputId": "789d8598-ca96-4d2b-f755-fb329730337d"
      },
      "source": [
        "df[\"post_text\"] = df[\"post_text\"].astype('str') \n",
        "df[\"new_post_text\"] = df[\"post_text\"].str.replace('{', '')\n",
        "df[\"new_post_text\"] = df[\"new_post_text\"].str.replace('\"', '')\n",
        "df[\"new_post_text\"] = df[\"new_post_text\"].str.replace(':', ' ')\n",
        "df[\"new_post_text\"] = df[\"new_post_text\"].str.replace('Body', '')\n",
        "df[\"new_post_text\"] = df[\"new_post_text\"].str.replace(',', '')\n",
        "df[\"new_post_text\"] = df[\"new_post_text\"].str.replace('.', '')\n",
        "df[\"new_post_text\"] = df[\"new_post_text\"].str.replace('jpg', '')\n",
        "df[\"new_post_text\"] = df[\"new_post_text\"].str.replace('#', '')\n",
        "df[\"new_post_text\"] = df[\"new_post_text\"].str.replace('}', '')\n",
        "df[\"new_post_text\"] = df[\"new_post_text\"].str.replace(']', '')\n",
        "df[\"new_post_text\"] = df[\"new_post_text\"].str.replace('[', '')\n",
        "df[\"new_post_text\"] = df[\"new_post_text\"].str.replace('URL', '')\n",
        "df[\"new_post_text\"] = df[\"new_post_text\"].str.replace('/', '')\n",
        "df[\"new_post_text\"] = df[\"new_post_text\"].str.replace('https', '')\n",
        "df[\"new_post_text\"] = df[\"new_post_text\"].str.replace('.', '')\n",
        "df[\"new_post_text\"] = df[\"new_post_text\"].str.replace('Images', '')\n",
        "df[\"new_post_text\"] = df[\"new_post_text\"].str.replace(')', '')\n",
        "df[\"new_post_text\"] = df[\"new_post_text\"].str.replace('(', '')\n",
        "df[\"new_post_text\"] = df[\"new_post_text\"].str.replace('@', '')\n",
        "df[\"new_post_text\"] = df[\"new_post_text\"].str.replace('!', '')\n",
        "df"
      ],
      "execution_count": 52,
      "outputs": [
        {
          "output_type": "execute_result",
          "data": {
            "text/html": [
              "<div>\n",
              "<style scoped>\n",
              "    .dataframe tbody tr th:only-of-type {\n",
              "        vertical-align: middle;\n",
              "    }\n",
              "\n",
              "    .dataframe tbody tr th {\n",
              "        vertical-align: top;\n",
              "    }\n",
              "\n",
              "    .dataframe thead th {\n",
              "        text-align: right;\n",
              "    }\n",
              "</style>\n",
              "<table border=\"1\" class=\"dataframe\">\n",
              "  <thead>\n",
              "    <tr style=\"text-align: right;\">\n",
              "      <th></th>\n",
              "      <th>post_text</th>\n",
              "      <th>likes</th>\n",
              "      <th>new_post_text</th>\n",
              "    </tr>\n",
              "  </thead>\n",
              "  <tbody>\n",
              "    <tr>\n",
              "      <th>0</th>\n",
              "      <td>{\"Body\":\"Thanks for your support and your patience.\\n\\nThe bitclout.com node is back online, with some significant performance improvements and bug-fixes.\\n\\nFor a full explanation of what happened today, click into this post 👇\",\"ImageURLs\":[]}</td>\n",
              "      <td>1017</td>\n",
              "      <td>Thanks for your support and your patience\\n\\nThe bitcloutcom node is back online with some significant performance improvements and bug-fixes\\n\\nFor a full explanation of what happened today click into this post 👇</td>\n",
              "    </tr>\n",
              "    <tr>\n",
              "      <th>1</th>\n",
              "      <td>{\"Body\":\"Wanted to apologize for a few things:\\n\\n1) The nodes have been having some issues around displaying posts. This will be fixed very soon and you will have all your old posts back. In the meantime, just know that all posts are safe, including old ones.\\n\\nClick to read more 👇\",\"ImageURLs\":[]}</td>\n",
              "      <td>875</td>\n",
              "      <td>Wanted to apologize for a few things \\n\\n1 The nodes have been having some issues around displaying posts This will be fixed very soon and you will have all your old posts back In the meantime just know that all posts are safe including old ones\\n\\nClick to read more 👇</td>\n",
              "    </tr>\n",
              "    <tr>\n",
              "      <th>2</th>\n",
              "      <td>{\"Body\":\"The password comes down Tuesday morning.\",\"ImageURLs\":[]}</td>\n",
              "      <td>755</td>\n",
              "      <td>The password comes down Tuesday morning</td>\n",
              "    </tr>\n",
              "    <tr>\n",
              "      <th>3</th>\n",
              "      <td>{\"Body\":\"The bitclout.com node is slow due to high load, and the dev community will be taking it down tonight to optimize. \\n\\nThanks for your support and we're very sorry for the inconvenience.\\n\\nIn the meantime, other nodes are running and all funds are safe. The blockchain never sleeps.\",\"ImageURLs\":[]}</td>\n",
              "      <td>560</td>\n",
              "      <td>The bitcloutcom node is slow due to high load and the dev community will be taking it down tonight to optimize \\n\\nThanks for your support and we're very sorry for the inconvenience\\n\\nIn the meantime other nodes are running and all funds are safe The blockchain never sleeps</td>\n",
              "    </tr>\n",
              "    <tr>\n",
              "      <th>4</th>\n",
              "      <td>{\"Body\":\"Welcome newly-verified creators:\\n\\n@rrhoover @arrington @santiagoroel @niraj @joeykrug @rickfox @sbf_alameda @zhusu @andreasklinger @mg @tomschmidt @kylesamani @cmsholdings @jdh @vcstarterkit @yodaskk @pridesai @anildelphi @joemccann @ashwinrz @cyantist\\n\\nAnd more... 👇\",\"ImageURLs\":[]}</td>\n",
              "      <td>499</td>\n",
              "      <td>Welcome newly-verified creators \\n\\nrrhoover arrington santiagoroel niraj joeykrug rickfox sbf_alameda zhusu andreasklinger mg tomschmidt kylesamani cmsholdings jdh vcstarterkit yodaskk pridesai anildelphi joemccann ashwinrz cyantist\\n\\nAnd more 👇</td>\n",
              "    </tr>\n",
              "    <tr>\n",
              "      <th>...</th>\n",
              "      <td>...</td>\n",
              "      <td>...</td>\n",
              "      <td>...</td>\n",
              "    </tr>\n",
              "    <tr>\n",
              "      <th>95</th>\n",
              "      <td>{\"Body\":\"Random Bitclout thought for today: What if we organize the first ever Bitclout conference? Free to attend. Creators and speakers can get together (virtually), share their experiences, and discuss the future and possibilities of the platform.\",\"ImageURLs\":[]}</td>\n",
              "      <td>104</td>\n",
              "      <td>Random Bitclout thought for today  What if we organize the first ever Bitclout conference? Free to attend Creators and speakers can get together virtually share their experiences and discuss the future and possibilities of the platform</td>\n",
              "    </tr>\n",
              "    <tr>\n",
              "      <th>96</th>\n",
              "      <td>{\"Body\":\"\",\"ImageURLs\":[\"https://i.imgur.com/xULKY9Q.jpg\"]}</td>\n",
              "      <td>104</td>\n",
              "      <td>iimgurcomxULKY9Q</td>\n",
              "    </tr>\n",
              "    <tr>\n",
              "      <th>97</th>\n",
              "      <td>{\"Body\":\"I walked out of my house last night after my first day on here and there was a Ferrari. Is this how bitclout works?\",\"ImageURLs\":[\"https://i.imgur.com/b0om2sd.jpg\"]}</td>\n",
              "      <td>102</td>\n",
              "      <td>I walked out of my house last night after my first day on here and there was a Ferrari Is this how bitclout works?  iimgurcomb0om2sd</td>\n",
              "    </tr>\n",
              "    <tr>\n",
              "      <th>98</th>\n",
              "      <td>{\"Body\":\"I’ve been having some conversations with some of the people on here 1-on-1 just to get to know each other and see what I can learn.\\n\\nIt’s crazy that even though we all come from different walks of life, we will always be able to relate to each other and find common ground.\\n🙏🌎🙌\",\"ImageURLs\":[]}</td>\n",
              "      <td>101</td>\n",
              "      <td>I’ve been having some conversations with some of the people on here 1-on-1 just to get to know each other and see what I can learn\\n\\nIt’s crazy that even though we all come from different walks of life we will always be able to relate to each other and find common ground\\n🙏🌎🙌</td>\n",
              "    </tr>\n",
              "    <tr>\n",
              "      <th>99</th>\n",
              "      <td>{\"Body\":\"You can now buy a Tesla with #bitcoin\",\"ImageURLs\":[]}</td>\n",
              "      <td>101</td>\n",
              "      <td>You can now buy a Tesla with bitcoin</td>\n",
              "    </tr>\n",
              "  </tbody>\n",
              "</table>\n",
              "<p>100 rows × 3 columns</p>\n",
              "</div>"
            ],
            "text/plain": [
              "                                                                                                                                                                                                                                                                                                               post_text  ...                                                                                                                                                                                                                                                                            new_post_text\n",
              "0                                                                   {\"Body\":\"Thanks for your support and your patience.\\n\\nThe bitclout.com node is back online, with some significant performance improvements and bug-fixes.\\n\\nFor a full explanation of what happened today, click into this post 👇\",\"ImageURLs\":[]}  ...                                                                   Thanks for your support and your patience\\n\\nThe bitcloutcom node is back online with some significant performance improvements and bug-fixes\\n\\nFor a full explanation of what happened today click into this post 👇 \n",
              "1          {\"Body\":\"Wanted to apologize for a few things:\\n\\n1) The nodes have been having some issues around displaying posts. This will be fixed very soon and you will have all your old posts back. In the meantime, just know that all posts are safe, including old ones.\\n\\nClick to read more 👇\",\"ImageURLs\":[]}  ...           Wanted to apologize for a few things \\n\\n1 The nodes have been having some issues around displaying posts This will be fixed very soon and you will have all your old posts back In the meantime just know that all posts are safe including old ones\\n\\nClick to read more 👇 \n",
              "2                                                                                                                                                                                                                                                     {\"Body\":\"The password comes down Tuesday morning.\",\"ImageURLs\":[]}  ...                                                                                                                                                                                                                                                 The password comes down Tuesday morning \n",
              "3   {\"Body\":\"The bitclout.com node is slow due to high load, and the dev community will be taking it down tonight to optimize. \\n\\nThanks for your support and we're very sorry for the inconvenience.\\n\\nIn the meantime, other nodes are running and all funds are safe. The blockchain never sleeps.\",\"ImageURLs\":[]}  ...     The bitcloutcom node is slow due to high load and the dev community will be taking it down tonight to optimize \\n\\nThanks for your support and we're very sorry for the inconvenience\\n\\nIn the meantime other nodes are running and all funds are safe The blockchain never sleeps \n",
              "4              {\"Body\":\"Welcome newly-verified creators:\\n\\n@rrhoover @arrington @santiagoroel @niraj @joeykrug @rickfox @sbf_alameda @zhusu @andreasklinger @mg @tomschmidt @kylesamani @cmsholdings @jdh @vcstarterkit @yodaskk @pridesai @anildelphi @joemccann @ashwinrz @cyantist\\n\\nAnd more... 👇\",\"ImageURLs\":[]}  ...                                 Welcome newly-verified creators \\n\\nrrhoover arrington santiagoroel niraj joeykrug rickfox sbf_alameda zhusu andreasklinger mg tomschmidt kylesamani cmsholdings jdh vcstarterkit yodaskk pridesai anildelphi joemccann ashwinrz cyantist\\n\\nAnd more 👇 \n",
              "..                                                                                                                                                                                                                                                                                                                   ...  ...                                                                                                                                                                                                                                                                                      ...\n",
              "95                                           {\"Body\":\"Random Bitclout thought for today: What if we organize the first ever Bitclout conference? Free to attend. Creators and speakers can get together (virtually), share their experiences, and discuss the future and possibilities of the platform.\",\"ImageURLs\":[]}  ...                                             Random Bitclout thought for today  What if we organize the first ever Bitclout conference? Free to attend Creators and speakers can get together virtually share their experiences and discuss the future and possibilities of the platform \n",
              "96                                                                                                                                                                                                                                                           {\"Body\":\"\",\"ImageURLs\":[\"https://i.imgur.com/xULKY9Q.jpg\"]}  ...                                                                                                                                                                                                                                                                         iimgurcomxULKY9Q\n",
              "97                                                                                                                                        {\"Body\":\"I walked out of my house last night after my first day on here and there was a Ferrari. Is this how bitclout works?\",\"ImageURLs\":[\"https://i.imgur.com/b0om2sd.jpg\"]}  ...                                                                                                                                                     I walked out of my house last night after my first day on here and there was a Ferrari Is this how bitclout works?  iimgurcomb0om2sd\n",
              "98    {\"Body\":\"I’ve been having some conversations with some of the people on here 1-on-1 just to get to know each other and see what I can learn.\\n\\nIt’s crazy that even though we all come from different walks of life, we will always be able to relate to each other and find common ground.\\n🙏🌎🙌\",\"ImageURLs\":[]}  ...   I’ve been having some conversations with some of the people on here 1-on-1 just to get to know each other and see what I can learn\\n\\nIt’s crazy that even though we all come from different walks of life we will always be able to relate to each other and find common ground\\n🙏🌎🙌 \n",
              "99                                                                                                                                                                                                                                                       {\"Body\":\"You can now buy a Tesla with #bitcoin\",\"ImageURLs\":[]}  ...                                                                                                                                                                                                                                                    You can now buy a Tesla with bitcoin \n",
              "\n",
              "[100 rows x 3 columns]"
            ]
          },
          "metadata": {
            "tags": []
          },
          "execution_count": 52
        }
      ]
    },
    {
      "cell_type": "code",
      "metadata": {
        "id": "uSBNr17ZEGTH"
      },
      "source": [
        "text = df.new_post_text[0]"
      ],
      "execution_count": 62,
      "outputs": []
    },
    {
      "cell_type": "code",
      "metadata": {
        "colab": {
          "base_uri": "https://localhost:8080/",
          "height": 215
        },
        "id": "RVdiCTfnCzuf",
        "outputId": "68bb6694-d033-4232-f8bd-862885244dba"
      },
      "source": [
        "\n",
        "# Create and generate a word cloud image:\n",
        "wordcloud = WordCloud(width=1600, height=800).generate(text)\n",
        "\n",
        "# Display the generated image:\n",
        "plt.imshow(wordcloud, interpolation='bilinear')\n",
        "plt.axis(\"off\")\n",
        "plt.show()"
      ],
      "execution_count": 66,
      "outputs": [
        {
          "output_type": "display_data",
          "data": {
            "image/png": "[encoded data removed]",
            "text/plain": [
              "<Figure size 432x288 with 1 Axes>"
            ]
          },
          "metadata": {
            "tags": [],
            "needs_background": "light"
          }
        },
        {
          "output_type": "display_data",
          "data": {
            "text/plain": [
              "<Figure size 2160x3600 with 0 Axes>"
            ]
          },
          "metadata": {
            "tags": []
          }
        }
      ]
    },
    {
      "cell_type": "markdown",
      "metadata": {
        "id": "2xt_S7RzCkUS"
      },
      "source": [
        ""
      ]
    }
  ]
}